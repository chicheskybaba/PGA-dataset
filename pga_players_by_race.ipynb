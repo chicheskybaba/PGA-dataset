{
 "cells": [
  {
   "cell_type": "markdown",
   "metadata": {
    "_uuid": "394626b22877811ebfc7071f68646563d08aeac6"
   },
   "source": [
    "## **PGA PLAYERS BY RACE (BY HOME COUNTRY CLASSIFICATION)** <a id=\"1\"></a>"
   ]
  },
  {
   "cell_type": "markdown",
   "metadata": {},
   "source": [
    "<a><img style=\"float: right;\" src=\"https://www.linkpicture.com/q/images2_4.jpg\" width=\"300\" /></a>\n",
    "<a><img style=\"float: right;\" src=\"https://www.linkpicture.com/q/images_539.png\" width=\"300\" /></a>\n",
    " \n",
    "\n"
   ]
  },
  {
   "cell_type": "markdown",
   "metadata": {},
   "source": [
    "- Dataset source: https://github.com/daronprater/PGA-Tour-Data-Science-Project/blob/master/pgatour_cleaned.csv"
   ]
  },
  {
   "cell_type": "markdown",
   "metadata": {},
   "source": [
    "### Notebook Preparation <a id=\"1.2\"></a>"
   ]
  },
  {
   "cell_type": "markdown",
   "metadata": {},
   "source": [
    "This part of the notebook deals with the relevant library import and visual configuration."
   ]
  },
  {
   "cell_type": "code",
   "execution_count": 123,
   "metadata": {
    "_kg_hide-input": true
   },
   "outputs": [],
   "source": [
    "# Import libraries\n",
    "\n",
    "import pandas as pd\n",
    "import numpy as np \n",
    "from scipy import stats\n",
    "\n",
    "import matplotlib.pyplot as plt\n",
    "import seaborn as sns\n",
    "import plotly\n",
    "import plotly.graph_objects as go\n",
    "import plotly.express as px\n",
    "\n",
    "from sklearn.preprocessing import StandardScaler\n",
    "\n",
    "from sklearn.cluster import KMeans\n",
    "from scipy.cluster.hierarchy import linkage\n",
    "from scipy.cluster.hierarchy import dendrogram\n",
    "from sklearn.metrics import silhouette_samples, silhouette_score"
   ]
  },
  {
   "cell_type": "code",
   "execution_count": 124,
   "metadata": {
    "_kg_hide-input": true
   },
   "outputs": [],
   "source": [
    "# Set notebook options\n",
    "\n",
    "pd.options.display.max_columns = 30\n",
    "\n",
    "import warnings\n",
    "warnings.filterwarnings(\"ignore\")"
   ]
  },
  {
   "cell_type": "markdown",
   "metadata": {
    "_uuid": "a95a91a1a31bcd4f79200c6ad21eb0163a9e780c"
   },
   "source": [
    "## **Data Preparation** <a id=\"2\"></a>"
   ]
  },
  {
   "cell_type": "markdown",
   "metadata": {},
   "source": [
    "The below section provides an initial exploration of the data."
   ]
  },
  {
   "cell_type": "code",
   "execution_count": 125,
   "metadata": {
    "_kg_hide-input": true,
    "_uuid": "01bb8d38ec581110eb3954352317ef9149f9d787"
   },
   "outputs": [
    {
     "data": {
      "text/html": [
       "<div>\n",
       "<style scoped>\n",
       "    .dataframe tbody tr th:only-of-type {\n",
       "        vertical-align: middle;\n",
       "    }\n",
       "\n",
       "    .dataframe tbody tr th {\n",
       "        vertical-align: top;\n",
       "    }\n",
       "\n",
       "    .dataframe thead th {\n",
       "        text-align: right;\n",
       "    }\n",
       "</style>\n",
       "<table border=\"1\" class=\"dataframe\">\n",
       "  <thead>\n",
       "    <tr style=\"text-align: right;\">\n",
       "      <th></th>\n",
       "      <th>null</th>\n",
       "      <th>name</th>\n",
       "      <th>rounds</th>\n",
       "      <th>scoring</th>\n",
       "      <th>drive_distance</th>\n",
       "      <th>fwy_</th>\n",
       "      <th>gir_</th>\n",
       "      <th>sg_p</th>\n",
       "      <th>sg_ttg</th>\n",
       "      <th>sg_t</th>\n",
       "      <th>points</th>\n",
       "      <th>top_10</th>\n",
       "      <th>1st</th>\n",
       "      <th>year</th>\n",
       "      <th>money</th>\n",
       "      <th>country</th>\n",
       "    </tr>\n",
       "  </thead>\n",
       "  <tbody>\n",
       "    <tr>\n",
       "      <th>0</th>\n",
       "      <td>0</td>\n",
       "      <td>Aaron Baddeley</td>\n",
       "      <td>83</td>\n",
       "      <td>70.088</td>\n",
       "      <td>291.9</td>\n",
       "      <td>60.00</td>\n",
       "      <td>60.35</td>\n",
       "      <td>0.629</td>\n",
       "      <td>0.435</td>\n",
       "      <td>1.064</td>\n",
       "      <td>17703</td>\n",
       "      <td>7</td>\n",
       "      <td>1</td>\n",
       "      <td>2007</td>\n",
       "      <td>3441119</td>\n",
       "      <td>AUS</td>\n",
       "    </tr>\n",
       "    <tr>\n",
       "      <th>1</th>\n",
       "      <td>1</td>\n",
       "      <td>Adam Scott</td>\n",
       "      <td>69</td>\n",
       "      <td>70.008</td>\n",
       "      <td>300.9</td>\n",
       "      <td>59.17</td>\n",
       "      <td>65.44</td>\n",
       "      <td>0.129</td>\n",
       "      <td>1.105</td>\n",
       "      <td>1.234</td>\n",
       "      <td>15630</td>\n",
       "      <td>6</td>\n",
       "      <td>1</td>\n",
       "      <td>2007</td>\n",
       "      <td>3413185</td>\n",
       "      <td>AUS</td>\n",
       "    </tr>\n",
       "    <tr>\n",
       "      <th>2</th>\n",
       "      <td>2</td>\n",
       "      <td>Alex Cejka</td>\n",
       "      <td>80</td>\n",
       "      <td>70.437</td>\n",
       "      <td>288.9</td>\n",
       "      <td>68.08</td>\n",
       "      <td>69.44</td>\n",
       "      <td>-0.479</td>\n",
       "      <td>1.207</td>\n",
       "      <td>0.728</td>\n",
       "      <td>2400</td>\n",
       "      <td>4</td>\n",
       "      <td>0</td>\n",
       "      <td>2007</td>\n",
       "      <td>868303</td>\n",
       "      <td>GER</td>\n",
       "    </tr>\n",
       "    <tr>\n",
       "      <th>3</th>\n",
       "      <td>3</td>\n",
       "      <td>Anders Hansen</td>\n",
       "      <td>55</td>\n",
       "      <td>70.856</td>\n",
       "      <td>280.7</td>\n",
       "      <td>66.95</td>\n",
       "      <td>62.85</td>\n",
       "      <td>-0.176</td>\n",
       "      <td>0.087</td>\n",
       "      <td>-0.089</td>\n",
       "      <td>1989</td>\n",
       "      <td>0</td>\n",
       "      <td>0</td>\n",
       "      <td>2007</td>\n",
       "      <td>461216</td>\n",
       "      <td>DEN</td>\n",
       "    </tr>\n",
       "    <tr>\n",
       "      <th>4</th>\n",
       "      <td>4</td>\n",
       "      <td>Andrew Buckle</td>\n",
       "      <td>77</td>\n",
       "      <td>71.443</td>\n",
       "      <td>294.7</td>\n",
       "      <td>58.14</td>\n",
       "      <td>62.52</td>\n",
       "      <td>0.161</td>\n",
       "      <td>-0.426</td>\n",
       "      <td>-0.265</td>\n",
       "      <td>1875</td>\n",
       "      <td>1</td>\n",
       "      <td>0</td>\n",
       "      <td>2007</td>\n",
       "      <td>513630</td>\n",
       "      <td>AUS</td>\n",
       "    </tr>\n",
       "  </tbody>\n",
       "</table>\n",
       "</div>"
      ],
      "text/plain": [
       "   null            name  rounds  scoring  drive_distance   fwy_   gir_   sg_p  \\\n",
       "0     0  Aaron Baddeley      83   70.088           291.9  60.00  60.35  0.629   \n",
       "1     1      Adam Scott      69   70.008           300.9  59.17  65.44  0.129   \n",
       "2     2      Alex Cejka      80   70.437           288.9  68.08  69.44 -0.479   \n",
       "3     3   Anders Hansen      55   70.856           280.7  66.95  62.85 -0.176   \n",
       "4     4   Andrew Buckle      77   71.443           294.7  58.14  62.52  0.161   \n",
       "\n",
       "   sg_ttg   sg_t  points  top_10  1st  year    money country  \n",
       "0   0.435  1.064   17703       7    1  2007  3441119     AUS  \n",
       "1   1.105  1.234   15630       6    1  2007  3413185     AUS  \n",
       "2   1.207  0.728    2400       4    0  2007   868303     GER  \n",
       "3   0.087 -0.089    1989       0    0  2007   461216     DEN  \n",
       "4  -0.426 -0.265    1875       1    0  2007   513630     AUS  "
      ]
     },
     "execution_count": 125,
     "metadata": {},
     "output_type": "execute_result"
    }
   ],
   "source": [
    "# Create URL\n",
    "url = 'pga_players_race.json'\n",
    "# Load data\n",
    "df = pd.read_json(url)\n",
    "# View the first five rows\n",
    "df.head(5)"
   ]
  },
  {
   "cell_type": "code",
   "execution_count": 126,
   "metadata": {},
   "outputs": [
    {
     "data": {
      "text/plain": [
       "(2044, 16)"
      ]
     },
     "execution_count": 126,
     "metadata": {},
     "output_type": "execute_result"
    }
   ],
   "source": [
    "# Let us count the number of records in the dataset.\n",
    "\n",
    "df.shape"
   ]
  },
  {
   "cell_type": "markdown",
   "metadata": {},
   "source": [
    "- There are 2,044 rows and 16 columns in the dataset."
   ]
  },
  {
   "cell_type": "code",
   "execution_count": 127,
   "metadata": {
    "_kg_hide-input": true,
    "_uuid": "38e354a2a8f38972e9eea009bfeaf62e29ca902a"
   },
   "outputs": [
    {
     "name": "stdout",
     "output_type": "stream",
     "text": [
      "<class 'pandas.core.frame.DataFrame'>\n",
      "RangeIndex: 2044 entries, 0 to 2043\n",
      "Data columns (total 16 columns):\n",
      " #   Column          Non-Null Count  Dtype  \n",
      "---  ------          --------------  -----  \n",
      " 0   null            2044 non-null   int64  \n",
      " 1   name            2044 non-null   object \n",
      " 2   rounds          2044 non-null   int64  \n",
      " 3   scoring         2044 non-null   float64\n",
      " 4   drive_distance  2044 non-null   float64\n",
      " 5   fwy_            2044 non-null   float64\n",
      " 6   gir_            2044 non-null   float64\n",
      " 7   sg_p            2044 non-null   float64\n",
      " 8   sg_ttg          2044 non-null   float64\n",
      " 9   sg_t            2044 non-null   float64\n",
      " 10  points          2044 non-null   int64  \n",
      " 11  top_10          2044 non-null   int64  \n",
      " 12  1st             2044 non-null   int64  \n",
      " 13  year            2044 non-null   int64  \n",
      " 14  money           2044 non-null   int64  \n",
      " 15  country         2044 non-null   object \n",
      "dtypes: float64(7), int64(7), object(2)\n",
      "memory usage: 255.6+ KB\n"
     ]
    }
   ],
   "source": [
    "# Check data types and if any records are missing\n",
    "\n",
    "df.info()"
   ]
  },
  {
   "cell_type": "markdown",
   "metadata": {},
   "source": [
    "- Seems we have no missing records in our datasets.\n",
    "- Let us confirm again that we have no missing record."
   ]
  },
  {
   "cell_type": "code",
   "execution_count": 128,
   "metadata": {},
   "outputs": [
    {
     "data": {
      "text/plain": [
       "null              0\n",
       "name              0\n",
       "rounds            0\n",
       "scoring           0\n",
       "drive_distance    0\n",
       "fwy_              0\n",
       "gir_              0\n",
       "sg_p              0\n",
       "sg_ttg            0\n",
       "sg_t              0\n",
       "points            0\n",
       "top_10            0\n",
       "1st               0\n",
       "year              0\n",
       "money             0\n",
       "country           0\n",
       "dtype: int64"
      ]
     },
     "execution_count": 128,
     "metadata": {},
     "output_type": "execute_result"
    }
   ],
   "source": [
    "# Let us count the number of missing records in each column of our dataset.\n",
    "\n",
    "df.isnull().sum()"
   ]
  },
  {
   "cell_type": "markdown",
   "metadata": {},
   "source": [
    "- Great! No missing record. Our dataset is clean, we can proceed with our data analysis."
   ]
  },
  {
   "cell_type": "code",
   "execution_count": 40,
   "metadata": {},
   "outputs": [
    {
     "data": {
      "text/plain": [
       "(2044, 16)"
      ]
     },
     "execution_count": 40,
     "metadata": {},
     "output_type": "execute_result"
    }
   ],
   "source": [
    "df.shape"
   ]
  },
  {
   "cell_type": "code",
   "execution_count": 44,
   "metadata": {},
   "outputs": [
    {
     "data": {
      "text/html": [
       "<div>\n",
       "<style scoped>\n",
       "    .dataframe tbody tr th:only-of-type {\n",
       "        vertical-align: middle;\n",
       "    }\n",
       "\n",
       "    .dataframe tbody tr th {\n",
       "        vertical-align: top;\n",
       "    }\n",
       "\n",
       "    .dataframe thead th {\n",
       "        text-align: right;\n",
       "    }\n",
       "</style>\n",
       "<table border=\"1\" class=\"dataframe\">\n",
       "  <thead>\n",
       "    <tr style=\"text-align: right;\">\n",
       "      <th></th>\n",
       "      <th>null</th>\n",
       "      <th>rounds</th>\n",
       "      <th>scoring</th>\n",
       "      <th>drive_distance</th>\n",
       "      <th>fwy_</th>\n",
       "      <th>gir_</th>\n",
       "      <th>sg_p</th>\n",
       "      <th>sg_ttg</th>\n",
       "      <th>sg_t</th>\n",
       "      <th>points</th>\n",
       "      <th>top_10</th>\n",
       "      <th>1st</th>\n",
       "      <th>year</th>\n",
       "      <th>money</th>\n",
       "    </tr>\n",
       "  </thead>\n",
       "  <tbody>\n",
       "    <tr>\n",
       "      <th>count</th>\n",
       "      <td>2044.000000</td>\n",
       "      <td>2044.000000</td>\n",
       "      <td>2044.000000</td>\n",
       "      <td>2044.000000</td>\n",
       "      <td>2044.000000</td>\n",
       "      <td>2044.000000</td>\n",
       "      <td>2044.000000</td>\n",
       "      <td>2044.000000</td>\n",
       "      <td>2044.000000</td>\n",
       "      <td>2044.000000</td>\n",
       "      <td>2044.000000</td>\n",
       "      <td>2044.000000</td>\n",
       "      <td>2044.000000</td>\n",
       "      <td>2.044000e+03</td>\n",
       "    </tr>\n",
       "    <tr>\n",
       "      <th>mean</th>\n",
       "      <td>1021.500000</td>\n",
       "      <td>79.355186</td>\n",
       "      <td>70.912630</td>\n",
       "      <td>289.540068</td>\n",
       "      <td>62.036404</td>\n",
       "      <td>65.412480</td>\n",
       "      <td>0.022556</td>\n",
       "      <td>0.129178</td>\n",
       "      <td>0.151788</td>\n",
       "      <td>1790.963796</td>\n",
       "      <td>2.675147</td>\n",
       "      <td>0.234344</td>\n",
       "      <td>2011.949119</td>\n",
       "      <td>1.419303e+06</td>\n",
       "    </tr>\n",
       "    <tr>\n",
       "      <th>std</th>\n",
       "      <td>590.196295</td>\n",
       "      <td>14.604295</td>\n",
       "      <td>0.681575</td>\n",
       "      <td>8.710074</td>\n",
       "      <td>5.209013</td>\n",
       "      <td>2.650798</td>\n",
       "      <td>0.351150</td>\n",
       "      <td>0.621524</td>\n",
       "      <td>0.675791</td>\n",
       "      <td>3833.522276</td>\n",
       "      <td>2.411051</td>\n",
       "      <td>0.593136</td>\n",
       "      <td>3.185158</td>\n",
       "      <td>1.325270e+06</td>\n",
       "    </tr>\n",
       "    <tr>\n",
       "      <th>min</th>\n",
       "      <td>0.000000</td>\n",
       "      <td>45.000000</td>\n",
       "      <td>67.794000</td>\n",
       "      <td>259.000000</td>\n",
       "      <td>41.860000</td>\n",
       "      <td>54.230000</td>\n",
       "      <td>-1.475000</td>\n",
       "      <td>-3.340000</td>\n",
       "      <td>-3.209000</td>\n",
       "      <td>6.000000</td>\n",
       "      <td>0.000000</td>\n",
       "      <td>0.000000</td>\n",
       "      <td>2007.000000</td>\n",
       "      <td>4.546000e+04</td>\n",
       "    </tr>\n",
       "    <tr>\n",
       "      <th>25%</th>\n",
       "      <td>510.750000</td>\n",
       "      <td>69.000000</td>\n",
       "      <td>70.490500</td>\n",
       "      <td>283.600000</td>\n",
       "      <td>58.510000</td>\n",
       "      <td>63.640000</td>\n",
       "      <td>-0.194000</td>\n",
       "      <td>-0.259500</td>\n",
       "      <td>-0.262500</td>\n",
       "      <td>360.000000</td>\n",
       "      <td>1.000000</td>\n",
       "      <td>0.000000</td>\n",
       "      <td>2009.000000</td>\n",
       "      <td>5.564188e+05</td>\n",
       "    </tr>\n",
       "    <tr>\n",
       "      <th>50%</th>\n",
       "      <td>1021.500000</td>\n",
       "      <td>80.000000</td>\n",
       "      <td>70.899000</td>\n",
       "      <td>289.300000</td>\n",
       "      <td>62.040000</td>\n",
       "      <td>65.560000</td>\n",
       "      <td>0.036000</td>\n",
       "      <td>0.140500</td>\n",
       "      <td>0.157500</td>\n",
       "      <td>659.000000</td>\n",
       "      <td>2.000000</td>\n",
       "      <td>0.000000</td>\n",
       "      <td>2012.000000</td>\n",
       "      <td>1.016720e+06</td>\n",
       "    </tr>\n",
       "    <tr>\n",
       "      <th>75%</th>\n",
       "      <td>1532.250000</td>\n",
       "      <td>90.000000</td>\n",
       "      <td>71.338750</td>\n",
       "      <td>295.200000</td>\n",
       "      <td>65.605000</td>\n",
       "      <td>67.122500</td>\n",
       "      <td>0.261000</td>\n",
       "      <td>0.528000</td>\n",
       "      <td>0.564250</td>\n",
       "      <td>1272.000000</td>\n",
       "      <td>4.000000</td>\n",
       "      <td>0.000000</td>\n",
       "      <td>2015.000000</td>\n",
       "      <td>1.809302e+06</td>\n",
       "    </tr>\n",
       "    <tr>\n",
       "      <th>max</th>\n",
       "      <td>2043.000000</td>\n",
       "      <td>124.000000</td>\n",
       "      <td>74.262000</td>\n",
       "      <td>318.400000</td>\n",
       "      <td>80.420000</td>\n",
       "      <td>73.520000</td>\n",
       "      <td>1.130000</td>\n",
       "      <td>2.380000</td>\n",
       "      <td>3.189000</td>\n",
       "      <td>53607.000000</td>\n",
       "      <td>15.000000</td>\n",
       "      <td>7.000000</td>\n",
       "      <td>2017.000000</td>\n",
       "      <td>1.203046e+07</td>\n",
       "    </tr>\n",
       "  </tbody>\n",
       "</table>\n",
       "</div>"
      ],
      "text/plain": [
       "              null       rounds      scoring  drive_distance         fwy_  \\\n",
       "count  2044.000000  2044.000000  2044.000000     2044.000000  2044.000000   \n",
       "mean   1021.500000    79.355186    70.912630      289.540068    62.036404   \n",
       "std     590.196295    14.604295     0.681575        8.710074     5.209013   \n",
       "min       0.000000    45.000000    67.794000      259.000000    41.860000   \n",
       "25%     510.750000    69.000000    70.490500      283.600000    58.510000   \n",
       "50%    1021.500000    80.000000    70.899000      289.300000    62.040000   \n",
       "75%    1532.250000    90.000000    71.338750      295.200000    65.605000   \n",
       "max    2043.000000   124.000000    74.262000      318.400000    80.420000   \n",
       "\n",
       "              gir_         sg_p       sg_ttg         sg_t        points  \\\n",
       "count  2044.000000  2044.000000  2044.000000  2044.000000   2044.000000   \n",
       "mean     65.412480     0.022556     0.129178     0.151788   1790.963796   \n",
       "std       2.650798     0.351150     0.621524     0.675791   3833.522276   \n",
       "min      54.230000    -1.475000    -3.340000    -3.209000      6.000000   \n",
       "25%      63.640000    -0.194000    -0.259500    -0.262500    360.000000   \n",
       "50%      65.560000     0.036000     0.140500     0.157500    659.000000   \n",
       "75%      67.122500     0.261000     0.528000     0.564250   1272.000000   \n",
       "max      73.520000     1.130000     2.380000     3.189000  53607.000000   \n",
       "\n",
       "            top_10          1st         year         money  \n",
       "count  2044.000000  2044.000000  2044.000000  2.044000e+03  \n",
       "mean      2.675147     0.234344  2011.949119  1.419303e+06  \n",
       "std       2.411051     0.593136     3.185158  1.325270e+06  \n",
       "min       0.000000     0.000000  2007.000000  4.546000e+04  \n",
       "25%       1.000000     0.000000  2009.000000  5.564188e+05  \n",
       "50%       2.000000     0.000000  2012.000000  1.016720e+06  \n",
       "75%       4.000000     0.000000  2015.000000  1.809302e+06  \n",
       "max      15.000000     7.000000  2017.000000  1.203046e+07  "
      ]
     },
     "execution_count": 44,
     "metadata": {},
     "output_type": "execute_result"
    }
   ],
   "source": [
    "# Let us view some basic statistical information about our dataset.\n",
    "# Only numerical columns will generate statistical information.\n",
    "\n",
    "df.describe()"
   ]
  },
  {
   "cell_type": "markdown",
   "metadata": {},
   "source": [
    "- From the statistical table above:\n",
    "\n",
    "- Average point = 1790.96\n",
    "- Minimum point = 6\n",
    "- Maximum point = 53607"
   ]
  },
  {
   "cell_type": "markdown",
   "metadata": {},
   "source": [
    "## HomeCountry Exploration <a id=\"3\"></a>"
   ]
  },
  {
   "cell_type": "code",
   "execution_count": 46,
   "metadata": {},
   "outputs": [],
   "source": [
    "# import libraries\n",
    "\n",
    "import matplotlib.pyplot as plt\n",
    "import pandas as pd\n",
    "import numpy as np\n",
    "import seaborn as sns"
   ]
  },
  {
   "cell_type": "code",
   "execution_count": 122,
   "metadata": {},
   "outputs": [
    {
     "data": {
      "text/plain": [
       "TPE       1\n",
       "BEL       1\n",
       "NOR       1\n",
       "PAR       1\n",
       "DEN       2\n",
       "BRA       2\n",
       "WAL       2\n",
       "ITA       3\n",
       "MEX       4\n",
       "IND       5\n",
       "VEN       6\n",
       "ZIM       9\n",
       "GER      10\n",
       "FIJ      10\n",
       "NIR      12\n",
       "IRL      12\n",
       "COL      12\n",
       "NZL      14\n",
       "SCO      15\n",
       "JPN      18\n",
       "ESP      18\n",
       "ARG      28\n",
       "CAN      42\n",
       "KOR      53\n",
       "SWE      54\n",
       "ENG      59\n",
       "RSA      72\n",
       "AUS     173\n",
       "USA    1405\n",
       "Name: country, dtype: int64"
      ]
     },
     "execution_count": 122,
     "metadata": {},
     "output_type": "execute_result"
    }
   ],
   "source": [
    "# Let us count the number of unique countries and the respective number of PGA players.\n",
    "\n",
    "df['country'].value_counts(ascending=True)"
   ]
  },
  {
   "cell_type": "markdown",
   "metadata": {},
   "source": [
    "- There are 29 unique countries\n",
    "- Let us again count the number of unique countries in the dataset using 'groupby' method."
   ]
  },
  {
   "cell_type": "code",
   "execution_count": 121,
   "metadata": {
    "tags": []
   },
   "outputs": [
    {
     "data": {
      "text/html": [
       "<div>\n",
       "<style scoped>\n",
       "    .dataframe tbody tr th:only-of-type {\n",
       "        vertical-align: middle;\n",
       "    }\n",
       "\n",
       "    .dataframe tbody tr th {\n",
       "        vertical-align: top;\n",
       "    }\n",
       "\n",
       "    .dataframe thead th {\n",
       "        text-align: right;\n",
       "    }\n",
       "</style>\n",
       "<table border=\"1\" class=\"dataframe\">\n",
       "  <thead>\n",
       "    <tr style=\"text-align: right;\">\n",
       "      <th></th>\n",
       "      <th>null</th>\n",
       "      <th>name</th>\n",
       "      <th>rounds</th>\n",
       "      <th>scoring</th>\n",
       "      <th>drive_distance</th>\n",
       "      <th>fwy_</th>\n",
       "      <th>gir_</th>\n",
       "      <th>sg_p</th>\n",
       "      <th>sg_ttg</th>\n",
       "      <th>sg_t</th>\n",
       "      <th>points</th>\n",
       "      <th>top_10</th>\n",
       "      <th>1st</th>\n",
       "      <th>year</th>\n",
       "      <th>money</th>\n",
       "    </tr>\n",
       "    <tr>\n",
       "      <th>country</th>\n",
       "      <th></th>\n",
       "      <th></th>\n",
       "      <th></th>\n",
       "      <th></th>\n",
       "      <th></th>\n",
       "      <th></th>\n",
       "      <th></th>\n",
       "      <th></th>\n",
       "      <th></th>\n",
       "      <th></th>\n",
       "      <th></th>\n",
       "      <th></th>\n",
       "      <th></th>\n",
       "      <th></th>\n",
       "      <th></th>\n",
       "    </tr>\n",
       "  </thead>\n",
       "  <tbody>\n",
       "    <tr>\n",
       "      <th>ARG</th>\n",
       "      <td>28</td>\n",
       "      <td>28</td>\n",
       "      <td>28</td>\n",
       "      <td>28</td>\n",
       "      <td>28</td>\n",
       "      <td>28</td>\n",
       "      <td>28</td>\n",
       "      <td>28</td>\n",
       "      <td>28</td>\n",
       "      <td>28</td>\n",
       "      <td>28</td>\n",
       "      <td>28</td>\n",
       "      <td>28</td>\n",
       "      <td>28</td>\n",
       "      <td>28</td>\n",
       "    </tr>\n",
       "    <tr>\n",
       "      <th>AUS</th>\n",
       "      <td>173</td>\n",
       "      <td>173</td>\n",
       "      <td>173</td>\n",
       "      <td>173</td>\n",
       "      <td>173</td>\n",
       "      <td>173</td>\n",
       "      <td>173</td>\n",
       "      <td>173</td>\n",
       "      <td>173</td>\n",
       "      <td>173</td>\n",
       "      <td>173</td>\n",
       "      <td>173</td>\n",
       "      <td>173</td>\n",
       "      <td>173</td>\n",
       "      <td>173</td>\n",
       "    </tr>\n",
       "    <tr>\n",
       "      <th>BEL</th>\n",
       "      <td>1</td>\n",
       "      <td>1</td>\n",
       "      <td>1</td>\n",
       "      <td>1</td>\n",
       "      <td>1</td>\n",
       "      <td>1</td>\n",
       "      <td>1</td>\n",
       "      <td>1</td>\n",
       "      <td>1</td>\n",
       "      <td>1</td>\n",
       "      <td>1</td>\n",
       "      <td>1</td>\n",
       "      <td>1</td>\n",
       "      <td>1</td>\n",
       "      <td>1</td>\n",
       "    </tr>\n",
       "    <tr>\n",
       "      <th>BRA</th>\n",
       "      <td>2</td>\n",
       "      <td>2</td>\n",
       "      <td>2</td>\n",
       "      <td>2</td>\n",
       "      <td>2</td>\n",
       "      <td>2</td>\n",
       "      <td>2</td>\n",
       "      <td>2</td>\n",
       "      <td>2</td>\n",
       "      <td>2</td>\n",
       "      <td>2</td>\n",
       "      <td>2</td>\n",
       "      <td>2</td>\n",
       "      <td>2</td>\n",
       "      <td>2</td>\n",
       "    </tr>\n",
       "    <tr>\n",
       "      <th>CAN</th>\n",
       "      <td>42</td>\n",
       "      <td>42</td>\n",
       "      <td>42</td>\n",
       "      <td>42</td>\n",
       "      <td>42</td>\n",
       "      <td>42</td>\n",
       "      <td>42</td>\n",
       "      <td>42</td>\n",
       "      <td>42</td>\n",
       "      <td>42</td>\n",
       "      <td>42</td>\n",
       "      <td>42</td>\n",
       "      <td>42</td>\n",
       "      <td>42</td>\n",
       "      <td>42</td>\n",
       "    </tr>\n",
       "    <tr>\n",
       "      <th>COL</th>\n",
       "      <td>12</td>\n",
       "      <td>12</td>\n",
       "      <td>12</td>\n",
       "      <td>12</td>\n",
       "      <td>12</td>\n",
       "      <td>12</td>\n",
       "      <td>12</td>\n",
       "      <td>12</td>\n",
       "      <td>12</td>\n",
       "      <td>12</td>\n",
       "      <td>12</td>\n",
       "      <td>12</td>\n",
       "      <td>12</td>\n",
       "      <td>12</td>\n",
       "      <td>12</td>\n",
       "    </tr>\n",
       "    <tr>\n",
       "      <th>DEN</th>\n",
       "      <td>2</td>\n",
       "      <td>2</td>\n",
       "      <td>2</td>\n",
       "      <td>2</td>\n",
       "      <td>2</td>\n",
       "      <td>2</td>\n",
       "      <td>2</td>\n",
       "      <td>2</td>\n",
       "      <td>2</td>\n",
       "      <td>2</td>\n",
       "      <td>2</td>\n",
       "      <td>2</td>\n",
       "      <td>2</td>\n",
       "      <td>2</td>\n",
       "      <td>2</td>\n",
       "    </tr>\n",
       "    <tr>\n",
       "      <th>ENG</th>\n",
       "      <td>59</td>\n",
       "      <td>59</td>\n",
       "      <td>59</td>\n",
       "      <td>59</td>\n",
       "      <td>59</td>\n",
       "      <td>59</td>\n",
       "      <td>59</td>\n",
       "      <td>59</td>\n",
       "      <td>59</td>\n",
       "      <td>59</td>\n",
       "      <td>59</td>\n",
       "      <td>59</td>\n",
       "      <td>59</td>\n",
       "      <td>59</td>\n",
       "      <td>59</td>\n",
       "    </tr>\n",
       "    <tr>\n",
       "      <th>ESP</th>\n",
       "      <td>18</td>\n",
       "      <td>18</td>\n",
       "      <td>18</td>\n",
       "      <td>18</td>\n",
       "      <td>18</td>\n",
       "      <td>18</td>\n",
       "      <td>18</td>\n",
       "      <td>18</td>\n",
       "      <td>18</td>\n",
       "      <td>18</td>\n",
       "      <td>18</td>\n",
       "      <td>18</td>\n",
       "      <td>18</td>\n",
       "      <td>18</td>\n",
       "      <td>18</td>\n",
       "    </tr>\n",
       "    <tr>\n",
       "      <th>FIJ</th>\n",
       "      <td>10</td>\n",
       "      <td>10</td>\n",
       "      <td>10</td>\n",
       "      <td>10</td>\n",
       "      <td>10</td>\n",
       "      <td>10</td>\n",
       "      <td>10</td>\n",
       "      <td>10</td>\n",
       "      <td>10</td>\n",
       "      <td>10</td>\n",
       "      <td>10</td>\n",
       "      <td>10</td>\n",
       "      <td>10</td>\n",
       "      <td>10</td>\n",
       "      <td>10</td>\n",
       "    </tr>\n",
       "    <tr>\n",
       "      <th>GER</th>\n",
       "      <td>10</td>\n",
       "      <td>10</td>\n",
       "      <td>10</td>\n",
       "      <td>10</td>\n",
       "      <td>10</td>\n",
       "      <td>10</td>\n",
       "      <td>10</td>\n",
       "      <td>10</td>\n",
       "      <td>10</td>\n",
       "      <td>10</td>\n",
       "      <td>10</td>\n",
       "      <td>10</td>\n",
       "      <td>10</td>\n",
       "      <td>10</td>\n",
       "      <td>10</td>\n",
       "    </tr>\n",
       "    <tr>\n",
       "      <th>IND</th>\n",
       "      <td>5</td>\n",
       "      <td>5</td>\n",
       "      <td>5</td>\n",
       "      <td>5</td>\n",
       "      <td>5</td>\n",
       "      <td>5</td>\n",
       "      <td>5</td>\n",
       "      <td>5</td>\n",
       "      <td>5</td>\n",
       "      <td>5</td>\n",
       "      <td>5</td>\n",
       "      <td>5</td>\n",
       "      <td>5</td>\n",
       "      <td>5</td>\n",
       "      <td>5</td>\n",
       "    </tr>\n",
       "    <tr>\n",
       "      <th>IRL</th>\n",
       "      <td>12</td>\n",
       "      <td>12</td>\n",
       "      <td>12</td>\n",
       "      <td>12</td>\n",
       "      <td>12</td>\n",
       "      <td>12</td>\n",
       "      <td>12</td>\n",
       "      <td>12</td>\n",
       "      <td>12</td>\n",
       "      <td>12</td>\n",
       "      <td>12</td>\n",
       "      <td>12</td>\n",
       "      <td>12</td>\n",
       "      <td>12</td>\n",
       "      <td>12</td>\n",
       "    </tr>\n",
       "    <tr>\n",
       "      <th>ITA</th>\n",
       "      <td>3</td>\n",
       "      <td>3</td>\n",
       "      <td>3</td>\n",
       "      <td>3</td>\n",
       "      <td>3</td>\n",
       "      <td>3</td>\n",
       "      <td>3</td>\n",
       "      <td>3</td>\n",
       "      <td>3</td>\n",
       "      <td>3</td>\n",
       "      <td>3</td>\n",
       "      <td>3</td>\n",
       "      <td>3</td>\n",
       "      <td>3</td>\n",
       "      <td>3</td>\n",
       "    </tr>\n",
       "    <tr>\n",
       "      <th>JPN</th>\n",
       "      <td>18</td>\n",
       "      <td>18</td>\n",
       "      <td>18</td>\n",
       "      <td>18</td>\n",
       "      <td>18</td>\n",
       "      <td>18</td>\n",
       "      <td>18</td>\n",
       "      <td>18</td>\n",
       "      <td>18</td>\n",
       "      <td>18</td>\n",
       "      <td>18</td>\n",
       "      <td>18</td>\n",
       "      <td>18</td>\n",
       "      <td>18</td>\n",
       "      <td>18</td>\n",
       "    </tr>\n",
       "    <tr>\n",
       "      <th>KOR</th>\n",
       "      <td>53</td>\n",
       "      <td>53</td>\n",
       "      <td>53</td>\n",
       "      <td>53</td>\n",
       "      <td>53</td>\n",
       "      <td>53</td>\n",
       "      <td>53</td>\n",
       "      <td>53</td>\n",
       "      <td>53</td>\n",
       "      <td>53</td>\n",
       "      <td>53</td>\n",
       "      <td>53</td>\n",
       "      <td>53</td>\n",
       "      <td>53</td>\n",
       "      <td>53</td>\n",
       "    </tr>\n",
       "    <tr>\n",
       "      <th>MEX</th>\n",
       "      <td>4</td>\n",
       "      <td>4</td>\n",
       "      <td>4</td>\n",
       "      <td>4</td>\n",
       "      <td>4</td>\n",
       "      <td>4</td>\n",
       "      <td>4</td>\n",
       "      <td>4</td>\n",
       "      <td>4</td>\n",
       "      <td>4</td>\n",
       "      <td>4</td>\n",
       "      <td>4</td>\n",
       "      <td>4</td>\n",
       "      <td>4</td>\n",
       "      <td>4</td>\n",
       "    </tr>\n",
       "    <tr>\n",
       "      <th>NIR</th>\n",
       "      <td>12</td>\n",
       "      <td>12</td>\n",
       "      <td>12</td>\n",
       "      <td>12</td>\n",
       "      <td>12</td>\n",
       "      <td>12</td>\n",
       "      <td>12</td>\n",
       "      <td>12</td>\n",
       "      <td>12</td>\n",
       "      <td>12</td>\n",
       "      <td>12</td>\n",
       "      <td>12</td>\n",
       "      <td>12</td>\n",
       "      <td>12</td>\n",
       "      <td>12</td>\n",
       "    </tr>\n",
       "    <tr>\n",
       "      <th>NOR</th>\n",
       "      <td>1</td>\n",
       "      <td>1</td>\n",
       "      <td>1</td>\n",
       "      <td>1</td>\n",
       "      <td>1</td>\n",
       "      <td>1</td>\n",
       "      <td>1</td>\n",
       "      <td>1</td>\n",
       "      <td>1</td>\n",
       "      <td>1</td>\n",
       "      <td>1</td>\n",
       "      <td>1</td>\n",
       "      <td>1</td>\n",
       "      <td>1</td>\n",
       "      <td>1</td>\n",
       "    </tr>\n",
       "    <tr>\n",
       "      <th>NZL</th>\n",
       "      <td>14</td>\n",
       "      <td>14</td>\n",
       "      <td>14</td>\n",
       "      <td>14</td>\n",
       "      <td>14</td>\n",
       "      <td>14</td>\n",
       "      <td>14</td>\n",
       "      <td>14</td>\n",
       "      <td>14</td>\n",
       "      <td>14</td>\n",
       "      <td>14</td>\n",
       "      <td>14</td>\n",
       "      <td>14</td>\n",
       "      <td>14</td>\n",
       "      <td>14</td>\n",
       "    </tr>\n",
       "    <tr>\n",
       "      <th>PAR</th>\n",
       "      <td>1</td>\n",
       "      <td>1</td>\n",
       "      <td>1</td>\n",
       "      <td>1</td>\n",
       "      <td>1</td>\n",
       "      <td>1</td>\n",
       "      <td>1</td>\n",
       "      <td>1</td>\n",
       "      <td>1</td>\n",
       "      <td>1</td>\n",
       "      <td>1</td>\n",
       "      <td>1</td>\n",
       "      <td>1</td>\n",
       "      <td>1</td>\n",
       "      <td>1</td>\n",
       "    </tr>\n",
       "    <tr>\n",
       "      <th>RSA</th>\n",
       "      <td>72</td>\n",
       "      <td>72</td>\n",
       "      <td>72</td>\n",
       "      <td>72</td>\n",
       "      <td>72</td>\n",
       "      <td>72</td>\n",
       "      <td>72</td>\n",
       "      <td>72</td>\n",
       "      <td>72</td>\n",
       "      <td>72</td>\n",
       "      <td>72</td>\n",
       "      <td>72</td>\n",
       "      <td>72</td>\n",
       "      <td>72</td>\n",
       "      <td>72</td>\n",
       "    </tr>\n",
       "    <tr>\n",
       "      <th>SCO</th>\n",
       "      <td>15</td>\n",
       "      <td>15</td>\n",
       "      <td>15</td>\n",
       "      <td>15</td>\n",
       "      <td>15</td>\n",
       "      <td>15</td>\n",
       "      <td>15</td>\n",
       "      <td>15</td>\n",
       "      <td>15</td>\n",
       "      <td>15</td>\n",
       "      <td>15</td>\n",
       "      <td>15</td>\n",
       "      <td>15</td>\n",
       "      <td>15</td>\n",
       "      <td>15</td>\n",
       "    </tr>\n",
       "    <tr>\n",
       "      <th>SWE</th>\n",
       "      <td>54</td>\n",
       "      <td>54</td>\n",
       "      <td>54</td>\n",
       "      <td>54</td>\n",
       "      <td>54</td>\n",
       "      <td>54</td>\n",
       "      <td>54</td>\n",
       "      <td>54</td>\n",
       "      <td>54</td>\n",
       "      <td>54</td>\n",
       "      <td>54</td>\n",
       "      <td>54</td>\n",
       "      <td>54</td>\n",
       "      <td>54</td>\n",
       "      <td>54</td>\n",
       "    </tr>\n",
       "    <tr>\n",
       "      <th>TPE</th>\n",
       "      <td>1</td>\n",
       "      <td>1</td>\n",
       "      <td>1</td>\n",
       "      <td>1</td>\n",
       "      <td>1</td>\n",
       "      <td>1</td>\n",
       "      <td>1</td>\n",
       "      <td>1</td>\n",
       "      <td>1</td>\n",
       "      <td>1</td>\n",
       "      <td>1</td>\n",
       "      <td>1</td>\n",
       "      <td>1</td>\n",
       "      <td>1</td>\n",
       "      <td>1</td>\n",
       "    </tr>\n",
       "    <tr>\n",
       "      <th>USA</th>\n",
       "      <td>1405</td>\n",
       "      <td>1405</td>\n",
       "      <td>1405</td>\n",
       "      <td>1405</td>\n",
       "      <td>1405</td>\n",
       "      <td>1405</td>\n",
       "      <td>1405</td>\n",
       "      <td>1405</td>\n",
       "      <td>1405</td>\n",
       "      <td>1405</td>\n",
       "      <td>1405</td>\n",
       "      <td>1405</td>\n",
       "      <td>1405</td>\n",
       "      <td>1405</td>\n",
       "      <td>1405</td>\n",
       "    </tr>\n",
       "    <tr>\n",
       "      <th>VEN</th>\n",
       "      <td>6</td>\n",
       "      <td>6</td>\n",
       "      <td>6</td>\n",
       "      <td>6</td>\n",
       "      <td>6</td>\n",
       "      <td>6</td>\n",
       "      <td>6</td>\n",
       "      <td>6</td>\n",
       "      <td>6</td>\n",
       "      <td>6</td>\n",
       "      <td>6</td>\n",
       "      <td>6</td>\n",
       "      <td>6</td>\n",
       "      <td>6</td>\n",
       "      <td>6</td>\n",
       "    </tr>\n",
       "    <tr>\n",
       "      <th>WAL</th>\n",
       "      <td>2</td>\n",
       "      <td>2</td>\n",
       "      <td>2</td>\n",
       "      <td>2</td>\n",
       "      <td>2</td>\n",
       "      <td>2</td>\n",
       "      <td>2</td>\n",
       "      <td>2</td>\n",
       "      <td>2</td>\n",
       "      <td>2</td>\n",
       "      <td>2</td>\n",
       "      <td>2</td>\n",
       "      <td>2</td>\n",
       "      <td>2</td>\n",
       "      <td>2</td>\n",
       "    </tr>\n",
       "    <tr>\n",
       "      <th>ZIM</th>\n",
       "      <td>9</td>\n",
       "      <td>9</td>\n",
       "      <td>9</td>\n",
       "      <td>9</td>\n",
       "      <td>9</td>\n",
       "      <td>9</td>\n",
       "      <td>9</td>\n",
       "      <td>9</td>\n",
       "      <td>9</td>\n",
       "      <td>9</td>\n",
       "      <td>9</td>\n",
       "      <td>9</td>\n",
       "      <td>9</td>\n",
       "      <td>9</td>\n",
       "      <td>9</td>\n",
       "    </tr>\n",
       "  </tbody>\n",
       "</table>\n",
       "</div>"
      ],
      "text/plain": [
       "         null  name  rounds  scoring  drive_distance  fwy_  gir_  sg_p  \\\n",
       "country                                                                  \n",
       "ARG        28    28      28       28              28    28    28    28   \n",
       "AUS       173   173     173      173             173   173   173   173   \n",
       "BEL         1     1       1        1               1     1     1     1   \n",
       "BRA         2     2       2        2               2     2     2     2   \n",
       "CAN        42    42      42       42              42    42    42    42   \n",
       "COL        12    12      12       12              12    12    12    12   \n",
       "DEN         2     2       2        2               2     2     2     2   \n",
       "ENG        59    59      59       59              59    59    59    59   \n",
       "ESP        18    18      18       18              18    18    18    18   \n",
       "FIJ        10    10      10       10              10    10    10    10   \n",
       "GER        10    10      10       10              10    10    10    10   \n",
       "IND         5     5       5        5               5     5     5     5   \n",
       "IRL        12    12      12       12              12    12    12    12   \n",
       "ITA         3     3       3        3               3     3     3     3   \n",
       "JPN        18    18      18       18              18    18    18    18   \n",
       "KOR        53    53      53       53              53    53    53    53   \n",
       "MEX         4     4       4        4               4     4     4     4   \n",
       "NIR        12    12      12       12              12    12    12    12   \n",
       "NOR         1     1       1        1               1     1     1     1   \n",
       "NZL        14    14      14       14              14    14    14    14   \n",
       "PAR         1     1       1        1               1     1     1     1   \n",
       "RSA        72    72      72       72              72    72    72    72   \n",
       "SCO        15    15      15       15              15    15    15    15   \n",
       "SWE        54    54      54       54              54    54    54    54   \n",
       "TPE         1     1       1        1               1     1     1     1   \n",
       "USA      1405  1405    1405     1405            1405  1405  1405  1405   \n",
       "VEN         6     6       6        6               6     6     6     6   \n",
       "WAL         2     2       2        2               2     2     2     2   \n",
       "ZIM         9     9       9        9               9     9     9     9   \n",
       "\n",
       "         sg_ttg  sg_t  points  top_10   1st  year  money  \n",
       "country                                                   \n",
       "ARG          28    28      28      28    28    28     28  \n",
       "AUS         173   173     173     173   173   173    173  \n",
       "BEL           1     1       1       1     1     1      1  \n",
       "BRA           2     2       2       2     2     2      2  \n",
       "CAN          42    42      42      42    42    42     42  \n",
       "COL          12    12      12      12    12    12     12  \n",
       "DEN           2     2       2       2     2     2      2  \n",
       "ENG          59    59      59      59    59    59     59  \n",
       "ESP          18    18      18      18    18    18     18  \n",
       "FIJ          10    10      10      10    10    10     10  \n",
       "GER          10    10      10      10    10    10     10  \n",
       "IND           5     5       5       5     5     5      5  \n",
       "IRL          12    12      12      12    12    12     12  \n",
       "ITA           3     3       3       3     3     3      3  \n",
       "JPN          18    18      18      18    18    18     18  \n",
       "KOR          53    53      53      53    53    53     53  \n",
       "MEX           4     4       4       4     4     4      4  \n",
       "NIR          12    12      12      12    12    12     12  \n",
       "NOR           1     1       1       1     1     1      1  \n",
       "NZL          14    14      14      14    14    14     14  \n",
       "PAR           1     1       1       1     1     1      1  \n",
       "RSA          72    72      72      72    72    72     72  \n",
       "SCO          15    15      15      15    15    15     15  \n",
       "SWE          54    54      54      54    54    54     54  \n",
       "TPE           1     1       1       1     1     1      1  \n",
       "USA        1405  1405    1405    1405  1405  1405   1405  \n",
       "VEN           6     6       6       6     6     6      6  \n",
       "WAL           2     2       2       2     2     2      2  \n",
       "ZIM           9     9       9       9     9     9      9  "
      ]
     },
     "execution_count": 121,
     "metadata": {},
     "output_type": "execute_result"
    }
   ],
   "source": [
    "# Grouping by country and count the number of unique countries. \n",
    "\n",
    "df.groupby(['country']).count()"
   ]
  },
  {
   "cell_type": "markdown",
   "metadata": {},
   "source": [
    "- There are 29 unique Countries in our dataset. \n",
    "\n",
    "- Group 1 = Argentina.\n",
    "- Group 2 = Australia.\n",
    "- Group 3 = Belgium. \n",
    "- Group 4 = Brazil.\n",
    "- Group 5 = Canada.\n",
    "- Group 6 = Colombia.\n",
    "- Group 7 = Denmark.\n",
    "- Group 8 = England.\n",
    "- Group 9 = Spain.\n",
    "- Group 10 = Fiji.\n",
    "- Group 11 = Germany.\n",
    "- Group 12 = Indonesia.\n",
    "- Group 13 = Ireland.\n",
    "- Group 14 = Italy.\n",
    "- Group 15 = Japan.\n",
    "- Group 16 = Korea.\n",
    "- Group 17 = Mexico.\n",
    "- Group 18 = Niger.\n",
    "- Group 19 = Norway.\n",
    "- Group 20 = New Zealand.\n",
    "- Group 21 = Paraguay.\n",
    "- Group 22 = Republic of South Africa.\n",
    "- Group 23 = Scotland.\n",
    "- Group 24 = Sweden.\n",
    "- Group 25 = Taiwan.\n",
    "- Group 26 = USA.\n",
    "- Group 27 = Venezuela.\n",
    "- Group 28 = Wales.\n",
    "- Group 29 = Zimbabwe."
   ]
  },
  {
   "cell_type": "code",
   "execution_count": 61,
   "metadata": {},
   "outputs": [
    {
     "data": {
      "text/plain": [
       "28"
      ]
     },
     "execution_count": 61,
     "metadata": {},
     "output_type": "execute_result"
    }
   ],
   "source": [
    " # Counting number of PGA players whose Home Country = Argentina\n",
    "\n",
    "arg = (df['country']=='ARG').sum()\n",
    "arg"
   ]
  },
  {
   "cell_type": "code",
   "execution_count": 66,
   "metadata": {},
   "outputs": [
    {
     "data": {
      "text/plain": [
       "173"
      ]
     },
     "execution_count": 66,
     "metadata": {},
     "output_type": "execute_result"
    }
   ],
   "source": [
    " # Counting number of PGA players whose Home Country = Australia\n",
    "\n",
    "aus = (df['country']=='AUS').sum()\n",
    "aus"
   ]
  },
  {
   "cell_type": "code",
   "execution_count": 67,
   "metadata": {},
   "outputs": [
    {
     "data": {
      "text/plain": [
       "1"
      ]
     },
     "execution_count": 67,
     "metadata": {},
     "output_type": "execute_result"
    }
   ],
   "source": [
    " # Counting number of PGA players whose Home Country = Belgium\n",
    "\n",
    "bel = (df['country']=='BEL').sum()\n",
    "bel"
   ]
  },
  {
   "cell_type": "code",
   "execution_count": 68,
   "metadata": {},
   "outputs": [
    {
     "data": {
      "text/plain": [
       "2"
      ]
     },
     "execution_count": 68,
     "metadata": {},
     "output_type": "execute_result"
    }
   ],
   "source": [
    " # Counting number of PGA players whose Home Country = Brazil\n",
    "\n",
    "bra = (df['country']=='BRA').sum()\n",
    "bra"
   ]
  },
  {
   "cell_type": "code",
   "execution_count": 69,
   "metadata": {},
   "outputs": [
    {
     "data": {
      "text/plain": [
       "42"
      ]
     },
     "execution_count": 69,
     "metadata": {},
     "output_type": "execute_result"
    }
   ],
   "source": [
    " # Counting number of PGA players whose Home Country = Canada\n",
    "\n",
    "can = (df['country']=='CAN').sum()\n",
    "can"
   ]
  },
  {
   "cell_type": "code",
   "execution_count": 70,
   "metadata": {},
   "outputs": [
    {
     "data": {
      "text/plain": [
       "12"
      ]
     },
     "execution_count": 70,
     "metadata": {},
     "output_type": "execute_result"
    }
   ],
   "source": [
    " # Counting number of PGA players whose Home Country = Colombia\n",
    "\n",
    "col = (df['country']=='COL').sum()\n",
    "col"
   ]
  },
  {
   "cell_type": "code",
   "execution_count": 72,
   "metadata": {},
   "outputs": [
    {
     "data": {
      "text/plain": [
       "2"
      ]
     },
     "execution_count": 72,
     "metadata": {},
     "output_type": "execute_result"
    }
   ],
   "source": [
    " # Counting number of PGA players whose Home Country = Denmark\n",
    "\n",
    "den = (df['country']=='DEN').sum()\n",
    "den"
   ]
  },
  {
   "cell_type": "code",
   "execution_count": 73,
   "metadata": {},
   "outputs": [
    {
     "data": {
      "text/plain": [
       "59"
      ]
     },
     "execution_count": 73,
     "metadata": {},
     "output_type": "execute_result"
    }
   ],
   "source": [
    " # Counting number of PGA players whose Home Country = England\n",
    "\n",
    "eng = (df['country']=='ENG').sum()\n",
    "eng"
   ]
  },
  {
   "cell_type": "code",
   "execution_count": 74,
   "metadata": {},
   "outputs": [
    {
     "data": {
      "text/plain": [
       "18"
      ]
     },
     "execution_count": 74,
     "metadata": {},
     "output_type": "execute_result"
    }
   ],
   "source": [
    " # Counting number of PGA players whose Home Country = Spain\n",
    "\n",
    "esp = (df['country']=='ESP').sum()\n",
    "esp"
   ]
  },
  {
   "cell_type": "code",
   "execution_count": 75,
   "metadata": {},
   "outputs": [
    {
     "data": {
      "text/plain": [
       "10"
      ]
     },
     "execution_count": 75,
     "metadata": {},
     "output_type": "execute_result"
    }
   ],
   "source": [
    " # Counting number of PGA players whose Home Country = Fiji\n",
    "\n",
    "fij = (df['country']=='FIJ').sum()\n",
    "fij"
   ]
  },
  {
   "cell_type": "code",
   "execution_count": 76,
   "metadata": {},
   "outputs": [
    {
     "data": {
      "text/plain": [
       "10"
      ]
     },
     "execution_count": 76,
     "metadata": {},
     "output_type": "execute_result"
    }
   ],
   "source": [
    " # Counting number of PGA players whose Home Country = Germany\n",
    "\n",
    "ger = (df['country']=='GER').sum()\n",
    "ger"
   ]
  },
  {
   "cell_type": "code",
   "execution_count": 77,
   "metadata": {},
   "outputs": [
    {
     "data": {
      "text/plain": [
       "5"
      ]
     },
     "execution_count": 77,
     "metadata": {},
     "output_type": "execute_result"
    }
   ],
   "source": [
    " # Counting number of PGA players whose Home Country = Indonesia\n",
    "\n",
    "ind = (df['country']=='IND').sum()\n",
    "ind"
   ]
  },
  {
   "cell_type": "code",
   "execution_count": 78,
   "metadata": {},
   "outputs": [
    {
     "data": {
      "text/plain": [
       "12"
      ]
     },
     "execution_count": 78,
     "metadata": {},
     "output_type": "execute_result"
    }
   ],
   "source": [
    " # Counting number of PGA players whose Home Country = Ireland\n",
    "\n",
    "irl = (df['country']=='IRL').sum()\n",
    "irl"
   ]
  },
  {
   "cell_type": "code",
   "execution_count": 79,
   "metadata": {},
   "outputs": [
    {
     "data": {
      "text/plain": [
       "3"
      ]
     },
     "execution_count": 79,
     "metadata": {},
     "output_type": "execute_result"
    }
   ],
   "source": [
    " # Counting number of PGA players whose Home Country = Italy\n",
    "\n",
    "ita = (df['country']=='ITA').sum()\n",
    "ita"
   ]
  },
  {
   "cell_type": "code",
   "execution_count": 83,
   "metadata": {},
   "outputs": [
    {
     "data": {
      "text/plain": [
       "18"
      ]
     },
     "execution_count": 83,
     "metadata": {},
     "output_type": "execute_result"
    }
   ],
   "source": [
    " # Counting number of PGA players whose Home Country = Japan\n",
    "\n",
    "jpn = (df['country']=='JPN').sum()\n",
    "jpn"
   ]
  },
  {
   "cell_type": "code",
   "execution_count": 84,
   "metadata": {},
   "outputs": [
    {
     "data": {
      "text/plain": [
       "53"
      ]
     },
     "execution_count": 84,
     "metadata": {},
     "output_type": "execute_result"
    }
   ],
   "source": [
    " # Counting number of PGA players whose Home Country = Korea\n",
    "\n",
    "kor = (df['country']=='KOR').sum()\n",
    "kor"
   ]
  },
  {
   "cell_type": "code",
   "execution_count": 85,
   "metadata": {},
   "outputs": [
    {
     "data": {
      "text/plain": [
       "4"
      ]
     },
     "execution_count": 85,
     "metadata": {},
     "output_type": "execute_result"
    }
   ],
   "source": [
    " # Counting number of PGA players whose Home Country = Mexico\n",
    "\n",
    "mex = (df['country']=='MEX').sum()\n",
    "mex"
   ]
  },
  {
   "cell_type": "code",
   "execution_count": 87,
   "metadata": {},
   "outputs": [
    {
     "data": {
      "text/plain": [
       "12"
      ]
     },
     "execution_count": 87,
     "metadata": {},
     "output_type": "execute_result"
    }
   ],
   "source": [
    " # Counting number of PGA players whose Home Country = Niger\n",
    "\n",
    "nir = (df['country']=='NIR').sum()\n",
    "nir"
   ]
  },
  {
   "cell_type": "code",
   "execution_count": 88,
   "metadata": {},
   "outputs": [
    {
     "data": {
      "text/plain": [
       "1"
      ]
     },
     "execution_count": 88,
     "metadata": {},
     "output_type": "execute_result"
    }
   ],
   "source": [
    " # Counting number of PGA players whose Home Country = Norway\n",
    "\n",
    "nor = (df['country']=='NOR').sum()\n",
    "nor"
   ]
  },
  {
   "cell_type": "code",
   "execution_count": 89,
   "metadata": {},
   "outputs": [
    {
     "data": {
      "text/plain": [
       "14"
      ]
     },
     "execution_count": 89,
     "metadata": {},
     "output_type": "execute_result"
    }
   ],
   "source": [
    " # Counting number of PGA players whose Home Country = New Zealand\n",
    "\n",
    "nzl = (df['country']=='NZL').sum()\n",
    "nzl"
   ]
  },
  {
   "cell_type": "code",
   "execution_count": 90,
   "metadata": {},
   "outputs": [
    {
     "data": {
      "text/plain": [
       "1"
      ]
     },
     "execution_count": 90,
     "metadata": {},
     "output_type": "execute_result"
    }
   ],
   "source": [
    " # Counting number of PGA players whose Home Country = Paraguay\n",
    "\n",
    "par = (df['country']=='PAR').sum()\n",
    "par"
   ]
  },
  {
   "cell_type": "code",
   "execution_count": 91,
   "metadata": {},
   "outputs": [
    {
     "data": {
      "text/plain": [
       "72"
      ]
     },
     "execution_count": 91,
     "metadata": {},
     "output_type": "execute_result"
    }
   ],
   "source": [
    " # Counting number of PGA players whose Home Country = Republic of South Africa\n",
    "\n",
    "rsa = (df['country']=='RSA').sum()\n",
    "rsa"
   ]
  },
  {
   "cell_type": "code",
   "execution_count": 92,
   "metadata": {},
   "outputs": [
    {
     "data": {
      "text/plain": [
       "15"
      ]
     },
     "execution_count": 92,
     "metadata": {},
     "output_type": "execute_result"
    }
   ],
   "source": [
    " # Counting number of PGA players whose Home Country = Scotland\n",
    "\n",
    "sco = (df['country']=='SCO').sum()\n",
    "sco"
   ]
  },
  {
   "cell_type": "code",
   "execution_count": 94,
   "metadata": {},
   "outputs": [
    {
     "data": {
      "text/plain": [
       "54"
      ]
     },
     "execution_count": 94,
     "metadata": {},
     "output_type": "execute_result"
    }
   ],
   "source": [
    " # Counting number of PGA players whose Home Country = Sweden\n",
    "\n",
    "swe = (df['country']=='SWE').sum()\n",
    "swe"
   ]
  },
  {
   "cell_type": "code",
   "execution_count": 95,
   "metadata": {},
   "outputs": [
    {
     "data": {
      "text/plain": [
       "1"
      ]
     },
     "execution_count": 95,
     "metadata": {},
     "output_type": "execute_result"
    }
   ],
   "source": [
    " # Counting number of PGA players whose Home Country = Taiwan\n",
    "\n",
    "tpe = (df['country']=='TPE').sum()\n",
    "tpe"
   ]
  },
  {
   "cell_type": "code",
   "execution_count": 96,
   "metadata": {},
   "outputs": [
    {
     "data": {
      "text/plain": [
       "1405"
      ]
     },
     "execution_count": 96,
     "metadata": {},
     "output_type": "execute_result"
    }
   ],
   "source": [
    " # Counting number of PGA players whose Home Country = USA\n",
    "\n",
    "usa = (df['country']=='USA').sum()\n",
    "usa"
   ]
  },
  {
   "cell_type": "code",
   "execution_count": 97,
   "metadata": {},
   "outputs": [
    {
     "data": {
      "text/plain": [
       "6"
      ]
     },
     "execution_count": 97,
     "metadata": {},
     "output_type": "execute_result"
    }
   ],
   "source": [
    " # Counting number of PGA players whose Home Country = Venezuela\n",
    "\n",
    "ven = (df['country']=='VEN').sum()\n",
    "ven"
   ]
  },
  {
   "cell_type": "code",
   "execution_count": 98,
   "metadata": {},
   "outputs": [
    {
     "data": {
      "text/plain": [
       "2"
      ]
     },
     "execution_count": 98,
     "metadata": {},
     "output_type": "execute_result"
    }
   ],
   "source": [
    " # Counting number of PGA players whose Home Country = Wales\n",
    "\n",
    "wal = (df['country']=='WAL').sum()\n",
    "wal"
   ]
  },
  {
   "cell_type": "code",
   "execution_count": 103,
   "metadata": {},
   "outputs": [
    {
     "data": {
      "text/plain": [
       "9"
      ]
     },
     "execution_count": 103,
     "metadata": {},
     "output_type": "execute_result"
    }
   ],
   "source": [
    " # Counting number of PGA players whose Home Country = Zimbabwe\n",
    "\n",
    "zim = (df['country']=='ZIM').sum()\n",
    "zim"
   ]
  },
  {
   "cell_type": "code",
   "execution_count": 104,
   "metadata": {},
   "outputs": [
    {
     "data": {
      "text/html": [
       "<div>\n",
       "<style scoped>\n",
       "    .dataframe tbody tr th:only-of-type {\n",
       "        vertical-align: middle;\n",
       "    }\n",
       "\n",
       "    .dataframe tbody tr th {\n",
       "        vertical-align: top;\n",
       "    }\n",
       "\n",
       "    .dataframe thead th {\n",
       "        text-align: right;\n",
       "    }\n",
       "</style>\n",
       "<table border=\"1\" class=\"dataframe\">\n",
       "  <thead>\n",
       "    <tr style=\"text-align: right;\">\n",
       "      <th></th>\n",
       "      <th>country</th>\n",
       "      <th>Number of PGA Players</th>\n",
       "    </tr>\n",
       "  </thead>\n",
       "  <tbody>\n",
       "    <tr>\n",
       "      <th>0</th>\n",
       "      <td>Argentina</td>\n",
       "      <td>28</td>\n",
       "    </tr>\n",
       "    <tr>\n",
       "      <th>1</th>\n",
       "      <td>Australia</td>\n",
       "      <td>173</td>\n",
       "    </tr>\n",
       "    <tr>\n",
       "      <th>2</th>\n",
       "      <td>Belgium</td>\n",
       "      <td>1</td>\n",
       "    </tr>\n",
       "    <tr>\n",
       "      <th>3</th>\n",
       "      <td>Brazil</td>\n",
       "      <td>2</td>\n",
       "    </tr>\n",
       "    <tr>\n",
       "      <th>4</th>\n",
       "      <td>Canada</td>\n",
       "      <td>42</td>\n",
       "    </tr>\n",
       "    <tr>\n",
       "      <th>5</th>\n",
       "      <td>Colombia</td>\n",
       "      <td>12</td>\n",
       "    </tr>\n",
       "    <tr>\n",
       "      <th>6</th>\n",
       "      <td>Denmark</td>\n",
       "      <td>2</td>\n",
       "    </tr>\n",
       "    <tr>\n",
       "      <th>7</th>\n",
       "      <td>England</td>\n",
       "      <td>59</td>\n",
       "    </tr>\n",
       "    <tr>\n",
       "      <th>8</th>\n",
       "      <td>Spain</td>\n",
       "      <td>18</td>\n",
       "    </tr>\n",
       "    <tr>\n",
       "      <th>9</th>\n",
       "      <td>Fiji</td>\n",
       "      <td>10</td>\n",
       "    </tr>\n",
       "    <tr>\n",
       "      <th>10</th>\n",
       "      <td>Germany</td>\n",
       "      <td>10</td>\n",
       "    </tr>\n",
       "    <tr>\n",
       "      <th>11</th>\n",
       "      <td>Indonesia</td>\n",
       "      <td>5</td>\n",
       "    </tr>\n",
       "    <tr>\n",
       "      <th>12</th>\n",
       "      <td>Ireland</td>\n",
       "      <td>12</td>\n",
       "    </tr>\n",
       "    <tr>\n",
       "      <th>13</th>\n",
       "      <td>Italy</td>\n",
       "      <td>3</td>\n",
       "    </tr>\n",
       "    <tr>\n",
       "      <th>14</th>\n",
       "      <td>Japan</td>\n",
       "      <td>18</td>\n",
       "    </tr>\n",
       "    <tr>\n",
       "      <th>15</th>\n",
       "      <td>Korea</td>\n",
       "      <td>53</td>\n",
       "    </tr>\n",
       "    <tr>\n",
       "      <th>16</th>\n",
       "      <td>Mexico</td>\n",
       "      <td>4</td>\n",
       "    </tr>\n",
       "    <tr>\n",
       "      <th>17</th>\n",
       "      <td>Niger</td>\n",
       "      <td>12</td>\n",
       "    </tr>\n",
       "    <tr>\n",
       "      <th>18</th>\n",
       "      <td>Norway</td>\n",
       "      <td>1</td>\n",
       "    </tr>\n",
       "    <tr>\n",
       "      <th>19</th>\n",
       "      <td>New Zealand</td>\n",
       "      <td>14</td>\n",
       "    </tr>\n",
       "    <tr>\n",
       "      <th>20</th>\n",
       "      <td>Paraguay</td>\n",
       "      <td>1</td>\n",
       "    </tr>\n",
       "    <tr>\n",
       "      <th>21</th>\n",
       "      <td>South Africa</td>\n",
       "      <td>72</td>\n",
       "    </tr>\n",
       "    <tr>\n",
       "      <th>22</th>\n",
       "      <td>Scotland</td>\n",
       "      <td>15</td>\n",
       "    </tr>\n",
       "    <tr>\n",
       "      <th>23</th>\n",
       "      <td>Sweden</td>\n",
       "      <td>54</td>\n",
       "    </tr>\n",
       "    <tr>\n",
       "      <th>24</th>\n",
       "      <td>Taiwan</td>\n",
       "      <td>1</td>\n",
       "    </tr>\n",
       "    <tr>\n",
       "      <th>25</th>\n",
       "      <td>USA</td>\n",
       "      <td>1405</td>\n",
       "    </tr>\n",
       "    <tr>\n",
       "      <th>26</th>\n",
       "      <td>Venezuela</td>\n",
       "      <td>6</td>\n",
       "    </tr>\n",
       "    <tr>\n",
       "      <th>27</th>\n",
       "      <td>Wales</td>\n",
       "      <td>2</td>\n",
       "    </tr>\n",
       "    <tr>\n",
       "      <th>28</th>\n",
       "      <td>Zimbabwe</td>\n",
       "      <td>9</td>\n",
       "    </tr>\n",
       "  </tbody>\n",
       "</table>\n",
       "</div>"
      ],
      "text/plain": [
       "         country  Number of PGA Players\n",
       "0      Argentina                     28\n",
       "1      Australia                    173\n",
       "2        Belgium                      1\n",
       "3         Brazil                      2\n",
       "4         Canada                     42\n",
       "5       Colombia                     12\n",
       "6        Denmark                      2\n",
       "7        England                     59\n",
       "8          Spain                     18\n",
       "9           Fiji                     10\n",
       "10       Germany                     10\n",
       "11     Indonesia                      5\n",
       "12       Ireland                     12\n",
       "13         Italy                      3\n",
       "14         Japan                     18\n",
       "15         Korea                     53\n",
       "16        Mexico                      4\n",
       "17         Niger                     12\n",
       "18        Norway                      1\n",
       "19   New Zealand                     14\n",
       "20      Paraguay                      1\n",
       "21  South Africa                     72\n",
       "22      Scotland                     15\n",
       "23        Sweden                     54\n",
       "24        Taiwan                      1\n",
       "25           USA                   1405\n",
       "26     Venezuela                      6\n",
       "27         Wales                      2\n",
       "28      Zimbabwe                      9"
      ]
     },
     "execution_count": 104,
     "metadata": {},
     "output_type": "execute_result"
    }
   ],
   "source": [
    "# Create a DataFrame based on the home country groupings created above\n",
    "dataframe = pd.DataFrame()\n",
    "\n",
    "# Add columns\n",
    "dataframe['country'] = ['Argentina', 'Australia', 'Belgium', 'Brazil', 'Canada', 'Colombia', 'Denmark', 'England', 'Spain', 'Fiji', 'Germany', 'Indonesia', 'Ireland', 'Italy', 'Japan', 'Korea', 'Mexico', 'Niger', 'Norway', 'New Zealand', 'Paraguay', 'South Africa', 'Scotland', 'Sweden', 'Taiwan', 'USA', 'Venezuela', 'Wales', 'Zimbabwe']\n",
    "dataframe['Number of PGA Players'] = [arg, aus, bel, bra, can, col, den, eng, esp, fij, ger, ind, irl, ita, jpn, kor, mex, nir, nor, nzl, par, rsa, sco, swe, tpe, usa, ven, wal, zim]\n",
    "\n",
    "# Show DataFrame\n",
    "dataframe"
   ]
  },
  {
   "cell_type": "code",
   "execution_count": 120,
   "metadata": {},
   "outputs": [
    {
     "data": {
      "image/png": "[encoded data removed]",
      "text/plain": [
       "<Figure size 432x288 with 1 Axes>"
      ]
     },
     "metadata": {
      "needs_background": "light"
     },
     "output_type": "display_data"
    }
   ],
   "source": [
    "# Let us visualize the bar chart of PGA players and their Home Countries.\n",
    "\n",
    "x = dataframe[\"country\"]\n",
    "y = dataframe[\"Number of PGA Players\"]\n",
    "plt.bar(x,y,align='center') # A bar chart\n",
    "plt.xticks(rotation = 90)\n",
    "plt.xlabel('Home Country')\n",
    "plt.ylabel('Number of PGA Players')\n",
    "plt.show()"
   ]
  },
  {
   "cell_type": "code",
   "execution_count": 118,
   "metadata": {},
   "outputs": [
    {
     "data": {
      "image/png": "[encoded data removed]",
      "text/plain": [
       "<Figure size 432x288 with 1 Axes>"
      ]
     },
     "metadata": {},
     "output_type": "display_data"
    },
    {
     "data": {
      "text/plain": [
       "<Figure size 1440x1080 with 0 Axes>"
      ]
     },
     "metadata": {},
     "output_type": "display_data"
    }
   ],
   "source": [
    "# Let us plot pie chart\n",
    "# Pie chart, where the slices will be ordered and plotted counter-clockwise:\n",
    "\n",
    "labels = x = dataframe[\"country\"]\n",
    "data = dataframe[\"Number of PGA Players\"]\n",
    "\n",
    "\n",
    "fig1, ax1 = plt.subplots()\n",
    "ax1.pie(data, labels=labels, autopct='%1.1f%%',\n",
    "        shadow=True, startangle=90)\n",
    "fig = plt.figure(figsize =(20, 15))\n",
    "ax1.axis('equal')  # Equal aspect ratio ensures that pie is drawn as a circle.\n",
    "\n",
    "plt.show()"
   ]
  },
  {
   "cell_type": "code",
   "execution_count": null,
   "metadata": {},
   "outputs": [],
   "source": []
  },
  {
   "cell_type": "code",
   "execution_count": 119,
   "metadata": {},
   "outputs": [
    {
     "data": {
      "image/png": "[encoded data removed]",
      "text/plain": [
       "<Figure size 7200x1080 with 1 Axes>"
      ]
     },
     "metadata": {},
     "output_type": "display_data"
    }
   ],
   "source": [
    "# Import libraries\n",
    "# Let us plot a bigger view of pie chart for proper visibility\n",
    "\n",
    "from matplotlib import pyplot as plt\n",
    "import numpy as np\n",
    " \n",
    " \n",
    "# Creating dataset\n",
    "countries = x = dataframe[\"country\"]\n",
    " \n",
    "data = dataframe[\"Number of PGA Players\"]\n",
    " \n",
    "# Creating plot\n",
    "fig = plt.figure(figsize =(100, 15))\n",
    "plt.pie(data, labels = countries, autopct='%1.1f%%', startangle=15, shadow=True)\n",
    " \n",
    "# show plot\n",
    "plt.show()"
   ]
  },
  {
   "cell_type": "markdown",
   "metadata": {
    "_uuid": "bf35ab5be10e493878da61bd4d3f0b4b71d6c5b4"
   },
   "source": [
    "## **5. Conclusion** <a id=\"5\"></a>"
   ]
  },
  {
   "cell_type": "markdown",
   "metadata": {},
   "source": [
    "\n",
    "### With a total of 2,044 PGA players in our dataset, the following table shows the percentages of PGA players based on their various home country groupings.\n",
    "\n",
    "- PGA players from ARGENTINA represent 1.40% of the dataset.\n",
    "- PGA players from AUSTRALIA represent 8.50% of the dataset.\n",
    "- PGA players from BELGIUM represent 0.05% of the dataset.\n",
    "- PGA players from BRAZIL represent 0.10% of the dataset.\n",
    "- PGA players from CANADA represent 2.05% of the dataset.\n",
    "- PGA players from COLOMBIA represent 0.59% of the dataset.\n",
    "- PGA players from DENMARK represent 0.10% of the dataset.\n",
    "- PGA players from ENGLAND represent 2.88% of the dataset.\n",
    "- PGA players from SPAIN represent 0.88% of the dataset.\n",
    "- PGA players from FIJI represent 0.49% of the dataset.\n",
    "- PGA players from GERMANY represent 0.49% of the dataset.\n",
    "- PGA players from INDONESIA represent 0.24% of the dataset.\n",
    "- PGA players from IRELAND represent 0.59% of the dataset.\n",
    "- PGA players from ITALY represent 0.14% of the dataset.\n",
    "- PGA players from JAPAN represent 0.88% of the dataset.\n",
    "- PGA players from KOREA represent 2.59% of the dataset.\n",
    "- PGA players from MEXICO represent 0.19% of the dataset.\n",
    "- PGA players from NIGER represent 0.59% of the dataset.\n",
    "- PGA players from NORWAY represent 0.05% of the dataset.\n",
    "- PGA players from NEW ZEALAND represent 0.68% of the dataset.\n",
    "- PGA players from PARAGUAY represent 0.05% of the dataset.\n",
    "- PGA players from SOUTH AFRICA represent 3.52% of the dataset.\n",
    "- PGA players from SCOTLAND represent 0.73% of the dataset.\n",
    "- PGA players from SWEDEN represent 2.64% of the dataset.\n",
    "- PGA players from TAIWAN represent 0.05% of the dataset.\n",
    "- PGA players from USA represent 68.74% of the dataset.\n",
    "- PGA players from VENEZUELA represent 0.29% of the dataset.\n",
    "- PGA players from WALES represent 0.10% of the dataset.\n",
    "- PGA players from ZIMBABWE represent 0.44% of the dataset."
   ]
  },
  {
   "cell_type": "code",
   "execution_count": null,
   "metadata": {},
   "outputs": [],
   "source": []
  }
 ],
 "metadata": {
  "kernelspec": {
   "display_name": "Python 3 (ipykernel)",
   "language": "python",
   "name": "python3"
  },
  "language_info": {
   "codemirror_mode": {
    "name": "ipython",
    "version": 3
   },
   "file_extension": ".py",
   "mimetype": "text/x-python",
   "name": "python",
   "nbconvert_exporter": "python",
   "pygments_lexer": "ipython3",
   "version": "3.8.4"
  }
 },
 "nbformat": 4,
 "nbformat_minor": 4
}
